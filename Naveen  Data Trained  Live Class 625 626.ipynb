{
 "cells": [
  {
   "cell_type": "code",
   "execution_count": 1,
   "id": "8ed7b05f",
   "metadata": {},
   "outputs": [
    {
     "name": "stdout",
     "output_type": "stream",
     "text": [
      "Theinmozhi, Ranganathan\n"
     ]
    }
   ],
   "source": [
    "print(\"Theinmozhi, Ranganathan\")"
   ]
  },
  {
   "cell_type": "code",
   "execution_count": 2,
   "id": "fd41e43f",
   "metadata": {},
   "outputs": [
    {
     "name": "stdout",
     "output_type": "stream",
     "text": [
      "Theinmozhi & Ranganathan\n"
     ]
    }
   ],
   "source": [
    "print(\"Theinmozhi & Ranganathan\")"
   ]
  },
  {
   "cell_type": "code",
   "execution_count": 3,
   "id": "b34f12a4",
   "metadata": {},
   "outputs": [
    {
     "name": "stdout",
     "output_type": "stream",
     "text": [
      "sum of value 37\n"
     ]
    }
   ],
   "source": [
    "x=22\n",
    "y=10\n",
    "z=5\n",
    "print(\"sum of value\",x+y+z)"
   ]
  },
  {
   "cell_type": "code",
   "execution_count": 4,
   "id": "5d9e974e",
   "metadata": {},
   "outputs": [
    {
     "name": "stdout",
     "output_type": "stream",
     "text": [
      "multiply of value 1100\n"
     ]
    }
   ],
   "source": [
    "print(\"multiply of value\",x*y*z)"
   ]
  },
  {
   "cell_type": "code",
   "execution_count": 7,
   "id": "77e4e5ef",
   "metadata": {},
   "outputs": [
    {
     "ename": "SyntaxError",
     "evalue": "expression cannot contain assignment, perhaps you meant \"==\"? (1199796775.py, line 1)",
     "output_type": "error",
     "traceback": [
      "\u001b[1;36m  Input \u001b[1;32mIn [7]\u001b[1;36m\u001b[0m\n\u001b[1;33m    print(\"x\"=\"y\")\u001b[0m\n\u001b[1;37m          ^\u001b[0m\n\u001b[1;31mSyntaxError\u001b[0m\u001b[1;31m:\u001b[0m expression cannot contain assignment, perhaps you meant \"==\"?\n"
     ]
    }
   ],
   "source": [
    "print(\"x\"=\"y\")"
   ]
  },
  {
   "cell_type": "code",
   "execution_count": 8,
   "id": "cc079664",
   "metadata": {},
   "outputs": [
    {
     "ename": "SyntaxError",
     "evalue": "invalid syntax (2768827395.py, line 1)",
     "output_type": "error",
     "traceback": [
      "\u001b[1;36m  Input \u001b[1;32mIn [8]\u001b[1;36m\u001b[0m\n\u001b[1;33m    print(x%)\u001b[0m\n\u001b[1;37m            ^\u001b[0m\n\u001b[1;31mSyntaxError\u001b[0m\u001b[1;31m:\u001b[0m invalid syntax\n"
     ]
    }
   ],
   "source": [
    "print(x%)"
   ]
  },
  {
   "cell_type": "code",
   "execution_count": 17,
   "id": "8a1f6992",
   "metadata": {},
   "outputs": [
    {
     "name": "stdout",
     "output_type": "stream",
     "text": [
      "the value of x & y & z are 22 & 10 & 5 respectively\n"
     ]
    }
   ],
   "source": [
    "print(\"the value of x & y & z are\", x,\"&\",y,\"&\",z,\"respectively\")"
   ]
  },
  {
   "cell_type": "code",
   "execution_count": null,
   "id": "34eec1bb",
   "metadata": {},
   "outputs": [],
   "source": []
  }
 ],
 "metadata": {
  "kernelspec": {
   "display_name": "Python 3 (ipykernel)",
   "language": "python",
   "name": "python3"
  },
  "language_info": {
   "codemirror_mode": {
    "name": "ipython",
    "version": 3
   },
   "file_extension": ".py",
   "mimetype": "text/x-python",
   "name": "python",
   "nbconvert_exporter": "python",
   "pygments_lexer": "ipython3",
   "version": "3.9.12"
  }
 },
 "nbformat": 4,
 "nbformat_minor": 5
}
